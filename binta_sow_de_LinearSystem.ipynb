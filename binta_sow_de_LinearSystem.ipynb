{
  "nbformat": 4,
  "nbformat_minor": 0,
  "metadata": {
    "colab": {
      "private_outputs": true,
      "provenance": [],
      "include_colab_link": true
    },
    "kernelspec": {
      "name": "python3",
      "display_name": "Python 3"
    },
    "language_info": {
      "name": "python"
    }
  },
  "cells": [
    {
      "cell_type": "markdown",
      "metadata": {
        "id": "view-in-github",
        "colab_type": "text"
      },
      "source": [
        "<a href=\"https://colab.research.google.com/github/BintaSOW1/GDA_Live_coding_FML23/blob/main/binta_sow_de_LinearSystem.ipynb\" target=\"_parent\"><img src=\"https://colab.research.google.com/assets/colab-badge.svg\" alt=\"Open In Colab\"/></a>"
      ]
    },
    {
      "cell_type": "markdown",
      "source": [
        "---\n",
        "___\n",
        "<p align= 'center'> <strong> PRACTICAL ASSIGNMENT ON LINEAR ALGEBRA</strong></p>\n",
        "\n",
        "---\n",
        "___\n",
        "<b> Instructions </b> <br>\n",
        "    1. The work you hand in must be your own. You are permitted to collaborate with one another students only to the degree of\n",
        "giving ideas on how to solve a problem. Think through and write up your own solutions; copying from others is not\n",
        "permitted. In particular, the code you hand in must be your own; <br>\n",
        "    2. Do not import additional libraries, only numpy is enough for this assignment."
      ],
      "metadata": {
        "id": "CUwVRjPlWGVJ"
      }
    },
    {
      "cell_type": "code",
      "source": [
        "import numpy as np"
      ],
      "metadata": {
        "id": "kbk4wqQ-M2yg"
      },
      "execution_count": null,
      "outputs": []
    },
    {
      "cell_type": "code",
      "source": [
        "def backsubs(U, b):\n",
        "\n",
        "  \"\"\"\n",
        "  x = backsubs(U, b)\n",
        "  Apply back substitution for the square upper triangular system Ux=b. \n",
        "\n",
        "  Parameters\n",
        "  -------\n",
        "    U: nxn square upper triangular array\n",
        "    b: n array\n",
        "    \n",
        "\n",
        "  Returns\n",
        "  -------\n",
        "    x: nx1 array\n",
        "  \"\"\"\n",
        "  ##### WRITE YOUR CODE HERE #####\n",
        "  n = len(b)\n",
        "  x = np.zeros(n)\n",
        "  if U[n-1][n-1] == 0:\n",
        "      return 'impossible'\n",
        "  else:\n",
        "      x[n-1] = b[n-1]/U[n-1][n-1]\n",
        "      for i in range(n-2, -1, -1):\n",
        "          if U[i][i] == 0:\n",
        "              return 'impossible'\n",
        "          else:\n",
        "              s=0\n",
        "              for j in range(i+1, n):\n",
        "                  s += U[i][j]*x[j]\n",
        "              x[i] = 1/U[i][i]* (b[i] - s)\n",
        "      return x\n",
        "U = np.array([[3, 2, 5], [0, 6, 4], [0, 0, 9]])\n",
        "b = np.array([5, 4, 10])\n",
        "print(backsubs(U, b))"
      ],
      "metadata": {
        "id": "is8Z-M1oz3v5"
      },
      "execution_count": null,
      "outputs": []
    },
    {
      "cell_type": "code",
      "source": [
        "def forwardsubs(L, b):\n",
        "\n",
        "  \"\"\"\n",
        "  \tx = forsubs(L, b)\n",
        "    Apply forward substitution for the square lower triangular system Lx=b. \n",
        "\n",
        "    Parameters\n",
        "    -------\n",
        "      L: nxn square lower triangular array\n",
        "      b: n array\n",
        "      \n",
        "    Returns\n",
        "    -------\n",
        "      x: n array\n",
        "\n",
        "  \"\"\"\n",
        "  ##### WRITE YOUR CODE HERE #####\n",
        "  n = len(b)\n",
        "  x = np.zeros(n)\n",
        "  if L[0][0] == 0 and b[0]!=0:\n",
        "        print('impossible')\n",
        "  else:\n",
        "      x[0]= b[0]/L[0][0]\n",
        "      for i in range(1, n):\n",
        "          if L[i][i]==0 and b[i]!=0:\n",
        "              return 'impossible'\n",
        "          else:\n",
        "              sum=0\n",
        "              for j in range(0, i):\n",
        "                  sum+= L[i][j]*x[j]\n",
        "              x[i]= 1/L[i][i] * (b[i]- sum)\n",
        "  return x\n",
        "L = np.array([[3, 0, 0], [1, 6, 0], [2, 3, 9]])\n",
        "b = np.array([5, 4, 1])\n",
        "print(forwardsubs(L, b))"
      ],
      "metadata": {
        "id": "umJdqw2pz7dw"
      },
      "execution_count": null,
      "outputs": []
    },
    {
      "cell_type": "code",
      "source": [
        "import numpy as np\n",
        "\n",
        "def fowardElimination(A, b):\n",
        "    \"\"\"\n",
        "    U, b_new = fowardElimination(A, b)\n",
        "\n",
        "    Apply Gaussian Elimination with no pivoting, also called Forward Elimination, \n",
        "    for the square system Ax=b.\n",
        "\n",
        "    Parameters\n",
        "    ----------\n",
        "    A: nxn numpy array\n",
        "        Matrix of coefficients.\n",
        "    b: n numpy array\n",
        "        Vector of constants.\n",
        "\n",
        "    Returns\n",
        "    -------\n",
        "    U: nxn numpy array\n",
        "        Upper triangular matrix.\n",
        "    b_new: n numpy array\n",
        "        Transformed right-hand side vector.\n",
        "    \"\"\"\n",
        "    A = A.astype(float)\n",
        "    b = b.astype(float)\n",
        "    n = A.shape[0]\n",
        "\n",
        "    for i in range(n):\n",
        "        A[i, :] = A[i, :] / A[i, i]\n",
        "        b[i] = b[i] / A[i, i]\n",
        "        for j in range(i + 1, n):\n",
        "            A[j, :] = A[j, :] - A[i, :] * A[j, i]\n",
        "            b[j] = b[j] - A[i, :] * b[i]\n",
        "\n",
        "    U = A\n",
        "    b_new = b\n",
        "    return U, b_new\n"
      ],
      "metadata": {
        "id": "Vg8-0r0p6vcL"
      },
      "execution_count": null,
      "outputs": []
    },
    {
      "cell_type": "code",
      "source": [
        "A = np.array([[1, 1, 1, 4], [2, 3, 5, 2], [4, 6, 8, 3], [3, 9, 2, 1]], dtype=np.float64)\n",
        "b = np.array([2, 3, 1, 4], dtype=np.float64)\n",
        "b_new = b\n",
        "#U, b_new = fowardElimination(A, b)\n",
        "print(\"U =\\n\", U)\n",
        "print(\"b_new =\", b_new)\n"
      ],
      "metadata": {
        "id": "dJdpUgho60AW"
      },
      "execution_count": null,
      "outputs": []
    },
    {
      "cell_type": "code",
      "source": [
        "import numpy as np\n",
        "\n",
        "def ge(A, b):\n",
        "    \"\"\"\n",
        "    x = ge(A, b)\n",
        "\n",
        "    Parameters\n",
        "    -------\n",
        "      A: nxn square matrix \n",
        "      b: n array\n",
        "\n",
        "    Returns\n",
        "    -------\n",
        "      x: n-array\n",
        "\n",
        "    \"\"\"\n",
        "    n = A.shape[0]\n",
        "\n",
        "    for i in range(n):\n",
        "        if A[i, i] == 0:\n",
        "            raise ValueError(\"impossible\")\n",
        "\n",
        "        for j in range(i+1, n):\n",
        "            p = A[j, i] / A[i, i]\n",
        "            A[j, i:n] = A[j, i:n] - p * A[i, i:n]\n",
        "            b[j] = b[j] - p * b[i]\n",
        "\n",
        "    x = np.zeros(n)\n",
        "    for i in range(n-1, -1, -1):\n",
        "        x[i] = (b[i] - np.dot(A[i, i+1:n], x[i+1:n])) / A[i, i]\n",
        "\n",
        "    return x\n"
      ],
      "metadata": {
        "id": "bcY-Akyu_0Xi"
      },
      "execution_count": null,
      "outputs": []
    },
    {
      "cell_type": "code",
      "source": [
        "A = np.array([[1,1,1, 4],[2,3,5, 2],[4,6,8, 3], [3,9,2, 1]],dtype=np.float64)\n",
        "b = np.array([2,3,1, 4],dtype=np.float64)\n",
        "\n",
        "x = ge(A,b)\n",
        "\n",
        "print(x)"
      ],
      "metadata": {
        "id": "81lPn9EmAPRk"
      },
      "execution_count": null,
      "outputs": []
    },
    {
      "cell_type": "markdown",
      "source": [
        "## Forward and Backward substitution and Gaussian Elimination"
      ],
      "metadata": {
        "id": "sDpC-myYerhD"
      }
    },
    {
      "cell_type": "markdown",
      "source": [
        "## LU Decomposition/Factorization"
      ],
      "metadata": {
        "id": "xrbs9uRuel0v"
      }
    },
    {
      "cell_type": "code",
      "source": [
        "def ludecom(A):\n",
        " \n",
        "  \"\"\"\n",
        "    L,U = ludecom(A)\n",
        "    Apply LU decomposition to mxm square matrix. \n",
        "\n",
        "    Parameters\n",
        "    -------\n",
        "    A: mxm square matrix \n",
        "\n",
        "    Returns\n",
        "    -------\n",
        "    L: mxm square matrix \n",
        "    U: mxm square matrix \n",
        "  \"\"\"\n",
        "\n",
        "  ##### WRITE YOUR CODE HERE #####\n",
        "  n = A.shape[0]\n",
        "  L = np.zeros((n,n))\n",
        "  U = A.copy()\n",
        "  for k in range(n-1):\n",
        "      for j in range(k+1, n):\n",
        "          L[j,k] = U[j,k] / U[k,k]\n",
        "          U[j,k:n] = U[j,k:n] - L[j,k]*U[k,k:n]\n",
        "  return L, U\n",
        "A = np.array([[1,1,1, 4], [2,3,5, 2], [4,6,8, 3], [3,9,2, 1]], dtype=np.float64)\n",
        "b = np.array([2,3,1, 4], dtype=np.float64)\n",
        "\n",
        "L, U = ludecom(A)\n",
        "print(\"L =\\n\", L)\n",
        "print(\"U =\\n\", U)"
      ],
      "metadata": {
        "id": "DVJ4q4I_2Xz8"
      },
      "execution_count": null,
      "outputs": []
    },
    {
      "cell_type": "code",
      "source": [
        "def solve(A, b):\n",
        "  \n",
        "    \n",
        "  \"\"\"\n",
        "     x = solve(A, b)\n",
        "    Apply LU decmposition, forward and backward substitution for the square system Ax=b. \n",
        "\n",
        "    Parameters\n",
        "    -------\n",
        "    A: mxm square matrix \n",
        "    b: m vector\n",
        "        \n",
        "    Returns\n",
        "    -------\n",
        "    x: n vector\n",
        "    \n",
        "    \"\"\"\n",
        "  ##### WRITE YOUR CODE HERE #####\n",
        "  L, U = ludecom(A)\n",
        "  y = forwardsubs(L, b)\n",
        "  x = backsubs(U, b)\n",
        "  return x\n",
        "    \n",
        " \n",
        "    \n",
        "\n",
        "  A= np.array([[1,1,1, 4],[2,3,5, 2],[4,6,8, 3], [3,9,2, 1]],dtype= np.float64)\n",
        "  b= np.array([2,3,1, 4],dtype= np.float64)\n",
        "\n",
        "  x= solve(A, b)\n",
        "\n",
        "  print(A@x-b)"
      ],
      "metadata": {
        "id": "fWZLYGQ72qhY"
      },
      "execution_count": null,
      "outputs": []
    },
    {
      "cell_type": "code",
      "source": [
        "print(A@x-b)"
      ],
      "metadata": {
        "id": "4yyhB1EI-1R6"
      },
      "execution_count": null,
      "outputs": []
    },
    {
      "cell_type": "markdown",
      "source": [
        "___END___"
      ],
      "metadata": {
        "id": "MCnQwgWOWAJf"
      }
    }
  ]
}